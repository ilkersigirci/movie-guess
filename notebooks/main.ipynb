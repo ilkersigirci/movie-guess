{
 "cells": [
  {
   "cell_type": "code",
   "execution_count": 2,
   "metadata": {},
   "outputs": [
    {
     "data": {
      "text/plain": [
       "True"
      ]
     },
     "execution_count": 2,
     "metadata": {},
     "output_type": "execute_result"
    }
   ],
   "source": [
    "from pprint import pprint\n",
    "\n",
    "from dotenv import load_dotenv\n",
    "from IPython.display import Image, display\n",
    "\n",
    "load_dotenv()"
   ]
  },
  {
   "cell_type": "markdown",
   "metadata": {},
   "source": [
    "## tmdbv3api"
   ]
  },
  {
   "cell_type": "code",
   "execution_count": 3,
   "metadata": {},
   "outputs": [],
   "source": [
    "from tmdbv3api import TMDb\n",
    "\n",
    "tmdb = TMDb()\n",
    "# tmdb.language = \"en\""
   ]
  },
  {
   "cell_type": "code",
   "execution_count": 4,
   "metadata": {},
   "outputs": [],
   "source": [
    "from tmdbv3api import Movie, Search\n",
    "\n",
    "movie = Movie()\n",
    "search = Search()\n",
    "\n",
    "backdrops = movie.images(movie_id=155, include_image_language=\"en,null\")"
   ]
  },
  {
   "cell_type": "code",
   "execution_count": null,
   "metadata": {},
   "outputs": [],
   "source": [
    "pprint(backdrops)"
   ]
  },
  {
   "cell_type": "code",
   "execution_count": null,
   "metadata": {},
   "outputs": [],
   "source": [
    "from thefuzz import fuzz\n",
    "\n",
    "\n",
    "def fuzzy_search_movies(query, threshold=60):\n",
    "    \"\"\"\n",
    "    Search movies with fuzzy matching\n",
    "    Args:\n",
    "        query (str): Search term\n",
    "        threshold (int): Minimum similarity score (0-100)\n",
    "    Returns:\n",
    "        list: Matched movies\n",
    "    \"\"\"\n",
    "    # Get initial results from TMDB\n",
    "    results = search.movies(query)\n",
    "\n",
    "    # Apply fuzzy matching\n",
    "    fuzzy_matches = []\n",
    "    for result in results:\n",
    "        title = result.title\n",
    "        # Calculate similarity ratio\n",
    "        ratio = fuzz.ratio(query.lower(), title.lower())\n",
    "\n",
    "        if ratio >= threshold:\n",
    "            fuzzy_matches.append(\n",
    "                {\n",
    "                    \"title\": title,\n",
    "                    \"similarity\": ratio,\n",
    "                    \"id\": result.id,\n",
    "                    \"release_date\": getattr(result, \"release_date\", \"N/A\"),\n",
    "                    \"overview\": getattr(result, \"overview\", \"N/A\"),\n",
    "                }\n",
    "            )\n",
    "\n",
    "    # Sort by similarity score\n",
    "    return sorted(fuzzy_matches, key=lambda x: x[\"similarity\"], reverse=True)\n",
    "\n",
    "\n",
    "query = \"interstellar\"\n",
    "\n",
    "fuzzy_search_movies(query=query)"
   ]
  },
  {
   "cell_type": "code",
   "execution_count": null,
   "metadata": {},
   "outputs": [],
   "source": []
  }
 ],
 "metadata": {
  "kernelspec": {
   "display_name": ".venv",
   "language": "python",
   "name": "python3"
  },
  "language_info": {
   "codemirror_mode": {
    "name": "ipython",
    "version": 3
   },
   "file_extension": ".py",
   "mimetype": "text/x-python",
   "name": "python",
   "nbconvert_exporter": "python",
   "pygments_lexer": "ipython3",
   "version": "3.11.7"
  }
 },
 "nbformat": 4,
 "nbformat_minor": 2
}
